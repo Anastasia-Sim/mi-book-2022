{
 "cells": [
  {
   "cell_type": "markdown",
   "id": "5334554e",
   "metadata": {},
   "source": [
    "# More practice with ML models\n",
    "\n",
    "*Authors: Enze Chen and Mark Asta (University of California, Berkeley)*\n",
    "\n",
    "```{note}\n",
    "This is an interactive exercise, so you will want to click the {fa}`rocket` and open the notebook in DataHub (or Colab for non-UCB students).\n",
    "```\n",
    "\n",
    "## Learning objectives\n",
    "\n",
    "This notebook contains a series of exercises that will give you more practice building ML models in [scikit-learn](https://scikit-learn.org/stable/).\n",
    "\n"
   ]
  },
  {
   "cell_type": "markdown",
   "id": "bef6029a",
   "metadata": {},
   "source": [
    "## Contents\n",
    "\n",
    "This notebook has the following sections.\n",
    "\n",
    "1. [Basic ML setup](#Basic-ML-setup)   \n",
    "1. [ML for screening](#Use-a-ML-model-for-screening)\n",
    "1. [More practice](#More-practice)"
   ]
  },
  {
   "cell_type": "markdown",
   "id": "bb32d824",
   "metadata": {},
   "source": [
    "### Import Python packages\n",
    "\n",
    "Please remember to run the following cell before continuing!"
   ]
  },
  {
   "cell_type": "code",
   "execution_count": null,
   "id": "dac709c3",
   "metadata": {},
   "outputs": [],
   "source": [
    "import numpy as np\n",
    "import pandas as pd\n",
    "import matplotlib.pyplot as plt\n",
    "%matplotlib inline\n",
    "\n",
    "from sklearn.linear_model import LinearRegression, LogisticRegression\n",
    "from sklearn.preprocessing import StandardScaler\n",
    "from sklearn.metrics import mean_squared_error, mean_absolute_error\n",
    "from sklearn.model_selection import KFold, cross_val_score, cross_val_predict\n",
    "from sklearn.metrics import confusion_matrix, accuracy_score\n",
    "\n",
    "plt.rcParams.update({'figure.figsize':(8,6),       # Increase figure size\n",
    "                     'font.size':20,               # Increase font size\n",
    "                     'mathtext.fontset':'cm',      # Change math font to Computer Modern\n",
    "                     'mathtext.rm':'serif',        # Documentation recommended follow-up\n",
    "                     'lines.linewidth':5,          # Thicker plot lines\n",
    "                     'lines.markersize':12,        # Larger plot points\n",
    "                     'axes.linewidth':2,           # Thicker axes lines (but not too thick)\n",
    "                     'xtick.major.size':8,         # Make the x-ticks longer (our plot is larger!)\n",
    "                     'xtick.major.width':2,        # Make the x-ticks wider\n",
    "                     'ytick.major.size':8,         # Ditto for y-ticks\n",
    "                     'ytick.major.width':2,        # Ditto for y-ticks\n",
    "                     'xtick.direction':'in', \n",
    "                     'ytick.direction':'in'})"
   ]
  },
  {
   "cell_type": "markdown",
   "id": "a4ca5efb",
   "metadata": {},
   "source": [
    "## Basic ML setup\n",
    "\n",
    "[Back to top](#Contents)\n",
    "\n",
    "### Gather some data\n",
    "\n",
    "This is always the first step.\n",
    "For the sake of demonstration, let's use the `hardness-density` dataset from the previous tutorials.\n",
    "We will use the `pandas` package to help us load the data into a DataFrame, taking care to skip the first row."
   ]
  },
  {
   "cell_type": "code",
   "execution_count": null,
   "id": "f871871b",
   "metadata": {},
   "outputs": [],
   "source": [
    "hd = pd.read_csv('../../assets/data/hardness_density.csv', skiprows=1)\n",
    "hd.head()"
   ]
  },
  {
   "cell_type": "markdown",
   "id": "1615ce50",
   "metadata": {},
   "source": [
    "### Exercise: Construct a linear model that predicts the Mohs hardness using the atomic number\n",
    "\n",
    "You can use the entire dataset as the training set and the test set.\n",
    "Don't forget to compute an error (in this case, training error) to assess model performance!"
   ]
  },
  {
   "cell_type": "code",
   "execution_count": null,
   "id": "0f3b3d7d",
   "metadata": {},
   "outputs": [],
   "source": [
    "X = hd[['Number']]\n",
    "y = hd['Mohs hardness']\n",
    "# -------------   WRITE YOUR CODE IN THE SPACE BELOW   ---------- #\n"
   ]
  },
  {
   "cell_type": "markdown",
   "id": "9a11c306",
   "metadata": {},
   "source": [
    "### Exercise: Now compare the ratio of the RMSE to the GTME\n",
    "\n",
    "Is your model a good model? \n",
    "Is this what you would expect?"
   ]
  },
  {
   "cell_type": "code",
   "execution_count": null,
   "id": "f754057e",
   "metadata": {},
   "outputs": [],
   "source": [
    "# -------------   WRITE YOUR CODE IN THE SPACE BELOW   ---------- #\n"
   ]
  },
  {
   "cell_type": "markdown",
   "id": "bd4a742f",
   "metadata": {},
   "source": [
    "### Exercise: Repeat the previous two steps, but now use the density AND atomic number"
   ]
  },
  {
   "cell_type": "code",
   "execution_count": null,
   "id": "09e87763",
   "metadata": {},
   "outputs": [],
   "source": [
    "# -------------   WRITE YOUR CODE IN THE SPACE BELOW   ---------- #\n"
   ]
  },
  {
   "cell_type": "markdown",
   "id": "8c71d22a",
   "metadata": {},
   "source": [
    "### Exercise: Construct a parity plot of these new results\n",
    "\n",
    "This will allow you to see which materials the model is performing poorly on."
   ]
  },
  {
   "cell_type": "code",
   "execution_count": null,
   "id": "24ce9ce5",
   "metadata": {},
   "outputs": [],
   "source": [
    "# -------------   WRITE YOUR CODE IN THE SPACE BELOW   ---------- #\n"
   ]
  },
  {
   "cell_type": "markdown",
   "id": "d7eca8c8",
   "metadata": {},
   "source": [
    "--------------------"
   ]
  },
  {
   "cell_type": "markdown",
   "id": "ea62a3e6",
   "metadata": {},
   "source": [
    "## Use a ML model for screening\n",
    "\n",
    "[Back to top](#Contents)\n",
    "\n",
    "So far, we haven't explicitly shown you how a ML model can be used for screening purposes to search for materials with good properties.\n",
    "Let's do that now, first with a picture that we've already shown:\n",
    "\n",
    "![ML screening](../../assets/fig/03/ml_screening_7.png)\n",
    "\n",
    "The first step is to establish a model between a commonly-available material property and the dielectric constant.\n",
    "For the sake of demonstration, we'll choose the band gap and use the existing dataset supplied by the Petousis paper."
   ]
  },
  {
   "cell_type": "code",
   "execution_count": null,
   "id": "8890b1c5",
   "metadata": {},
   "outputs": [],
   "source": [
    "diel = pd.read_csv('../../assets/data/dielectric_dataset.csv')\n",
    "diel.head()"
   ]
  },
  {
   "cell_type": "markdown",
   "id": "4fceb2f2",
   "metadata": {},
   "source": [
    "### Exercise: Using the dataset above, train an ML model that maps $E_{\\mathrm{g}}$ to $\\varepsilon$\n",
    "\n",
    "But unlike before, don't make any predictions yet!"
   ]
  },
  {
   "cell_type": "code",
   "execution_count": null,
   "id": "6b4464f5",
   "metadata": {},
   "outputs": [],
   "source": [
    "# -------------   WRITE YOUR CODE IN THE SPACE BELOW   ---------- #\n"
   ]
  },
  {
   "cell_type": "markdown",
   "id": "96975263",
   "metadata": {},
   "source": [
    "### Exercise: Now gather some more data without values of $\\varepsilon$\n",
    "\n",
    "You should be able to do this yourself now! \n",
    "Think about what criteria are important here.\n",
    "Start small.\n",
    "\n",
    "We've also scraped a subset of the Materials Project and saved it in the `more_mp_materials.csv` file.\n",
    "However, this dataset contains all types of materials, including metals, which could be misleading.\n",
    "If you use this dataset, be sure to filter those out first."
   ]
  },
  {
   "cell_type": "code",
   "execution_count": null,
   "id": "5c899856",
   "metadata": {},
   "outputs": [],
   "source": [
    "# -------------   WRITE YOUR CODE IN THE SPACE BELOW   ---------- #\n"
   ]
  },
  {
   "cell_type": "markdown",
   "id": "91179bc8",
   "metadata": {},
   "source": [
    "### Exercise: Make some predictions with the trained model"
   ]
  },
  {
   "cell_type": "code",
   "execution_count": null,
   "id": "f8555676",
   "metadata": {},
   "outputs": [],
   "source": [
    "# -------------   WRITE YOUR CODE IN THE SPACE BELOW   ---------- #\n"
   ]
  },
  {
   "cell_type": "markdown",
   "id": "82dbc842",
   "metadata": {},
   "source": [
    "### Challenge\n",
    "\n",
    "But now _without a ground truth to compare to_, we can't really calculate an error or make a parity plot.\n",
    "**How can we make sense of our predictions, and whether our model is believable?**\n",
    "_Is_ this model any good? 🧐\n",
    "\n",
    "----- "
   ]
  },
  {
   "cell_type": "markdown",
   "id": "a4fa75be",
   "metadata": {},
   "source": [
    "## More practice\n",
    "\n",
    "[Back to top](#Contents)\n",
    "\n",
    "### Exercise: You can use the dataset of elemental properties and do some more modeling of your choosing\n",
    "\n",
    "The file is `elem_props.csv` located in the same place as the other data.\n",
    "Try to do one regression problem and one classification problem!\n",
    "Also, instead of evaluating training error, do $k$-fold CV!\n",
    "\n",
    "Hints: \n",
    "- After loading the data in, you want to narrow down a subset of columns first, comprising inputs and outputs.\n",
    "- From your subset DataFrame, you may have to remove rows with `NaN` values."
   ]
  },
  {
   "cell_type": "code",
   "execution_count": null,
   "id": "ec3919c6",
   "metadata": {},
   "outputs": [],
   "source": [
    "# -------------   WRITE YOUR CODE IN THE SPACE BELOW   ---------- #\n"
   ]
  },
  {
   "cell_type": "markdown",
   "id": "c0532358",
   "metadata": {},
   "source": [
    "### Exercise: Alternatively, to stay on topic, you can try using your own dielectric data and a different input to predict $\\varepsilon$!"
   ]
  }
 ],
 "metadata": {
  "kernelspec": {
   "display_name": "Python 3 (ipykernel)",
   "language": "python",
   "name": "python3"
  },
  "language_info": {
   "codemirror_mode": {
    "name": "ipython",
    "version": 3
   },
   "file_extension": ".py",
   "mimetype": "text/x-python",
   "name": "python",
   "nbconvert_exporter": "python",
   "pygments_lexer": "ipython3",
   "version": "3.8.8"
  },
  "toc": {
   "base_numbering": 1,
   "nav_menu": {},
   "number_sections": false,
   "sideBar": true,
   "skip_h1_title": true,
   "title_cell": "Table of Contents",
   "title_sidebar": "Contents",
   "toc_cell": false,
   "toc_position": {},
   "toc_section_display": true,
   "toc_window_display": false
  }
 },
 "nbformat": 4,
 "nbformat_minor": 5
}
